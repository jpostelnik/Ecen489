{
 "cells": [
  {
   "cell_type": "code",
   "execution_count": 8,
   "metadata": {
    "vscode": {
     "languageId": "plaintext"
    }
   },
   "outputs": [],
   "source": [
    "import numpy as np\n",
    "import matplotlib.pyplot as plt\n",
    "import scipy\n",
    "from scipy.signal import periodogram\n",
    "\n",
    "import pandas as pd\n",
    "%matplotlib inline\n"
   ]
  },
  {
   "cell_type": "code",
   "execution_count": 14,
   "metadata": {},
   "outputs": [
    {
     "name": "stdout",
     "output_type": "stream",
     "text": [
      "       time     value\n",
      "0 -0.000032 -1.888867\n",
      "1 -0.000032 -1.893900\n",
      "2 -0.000032 -1.897926\n",
      "3 -0.000032 -1.900946\n",
      "4 -0.000032 -1.904637\n"
     ]
    }
   ],
   "source": [
    "data = pd.read_csv('default.csv')\n",
    "data.columns = ['time', 'value']\n",
    "\n",
    "print(data.head())\n"
   ]
  },
  {
   "cell_type": "code",
   "execution_count": 28,
   "metadata": {},
   "outputs": [
    {
     "name": "stdout",
     "output_type": "stream",
     "text": [
      "10\n",
      "10\n",
      "10\n",
      "10\n"
     ]
    },
    {
     "data": {
      "text/plain": [
       "(0.00026336072999999917, 0.00084347998)"
      ]
     },
     "execution_count": 28,
     "metadata": {},
     "output_type": "execute_result"
    }
   ],
   "source": [
    "##In class\n",
    "\n",
    "#time constent\n",
    "\n",
    "tau=264e-9 #ns\n",
    "Ron= tau/33e-9\n",
    "\n",
    "Ron_acutal=2 #ohms\n",
    "\n",
    "#sampling error\n",
    "#@10k, 100k\n",
    "y =np.array([2.004,1.463,314.9e-3,-911.3e-3,-1.8646,-2.0373,-1.6685,-1.1339,-0.28222,36.23e-3])\n",
    "y_hat=np.array([2.009,1.480,326.1e-3,-939.24e-3,-1.8646,-2.0373,-1.6766,-1.1232,-0.30936,13.94e-3])\n",
    "\n",
    "print(len(y))\n",
    "print(len(y_hat))\n",
    "\n",
    "error = 0.0\n",
    "for i in range(len(y)):\n",
    "    error += (y_hat[i] - y[i]) ** 2\n",
    "mse_100k= error / len(y)\n",
    "\n",
    "#@20k, 200k\n",
    "\n",
    "y =np.array([1.909,1.179,19.51e-3,-1.1566,-1.898,-1.947,-1.2124,-2.79e-3,1.168,1.789])\n",
    "y_hat=np.array([1.898,1.201,13.94e-3,-1.1957,-1.8577,-1.9036,-1.1901,-8.36e-3,1.173,1.742])\n",
    "\n",
    "\n",
    "print(len(y))\n",
    "print(len(y_hat))\n",
    "\n",
    "error = 0.0\n",
    "for i in range(len(y)):\n",
    "    error += (y_hat[i] - y[i]) ** 2\n",
    "mse_200k= error / len(y)\n",
    "\n",
    "(mse_100k,mse_200k)"
   ]
  }
 ],
 "metadata": {
  "kernelspec": {
   "display_name": "Python 3 (ipykernel)",
   "language": "python",
   "name": "python3"
  },
  "language_info": {
   "codemirror_mode": {
    "name": "ipython",
    "version": 3
   },
   "file_extension": ".py",
   "mimetype": "text/x-python",
   "name": "python",
   "nbconvert_exporter": "python",
   "pygments_lexer": "ipython3",
   "version": "3.11.11"
  }
 },
 "nbformat": 4,
 "nbformat_minor": 2
}
